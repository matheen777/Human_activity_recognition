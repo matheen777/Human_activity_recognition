{
 "cells": [
  {
   "cell_type": "code",
   "execution_count": 1,
   "metadata": {},
   "outputs": [],
   "source": [
    "# Importing Libraries"
   ]
  },
  {
   "cell_type": "code",
   "execution_count": 2,
   "metadata": {},
   "outputs": [],
   "source": [
    "import pandas as pd\n",
    "import numpy as np"
   ]
  },
  {
   "cell_type": "code",
   "execution_count": 3,
   "metadata": {},
   "outputs": [],
   "source": [
    "# Activities are the class labels\n",
    "# It is a 6 class classification\n",
    "ACTIVITIES = {\n",
    "    0: 'WALKING',\n",
    "    1: 'WALKING_UPSTAIRS',\n",
    "    2: 'WALKING_DOWNSTAIRS',\n",
    "    3: 'SITTING',\n",
    "    4: 'STANDING',\n",
    "    5: 'LAYING',\n",
    "}\n",
    "\n",
    "# Utility function to print the confusion matrix\n",
    "def confusion_matrix(Y_true, Y_pred):\n",
    "    Y_true = pd.Series([ACTIVITIES[y] for y in np.argmax(Y_true, axis=1)])\n",
    "    Y_pred = pd.Series([ACTIVITIES[y] for y in np.argmax(Y_pred, axis=1)])\n",
    "\n",
    "    return pd.crosstab(Y_true, Y_pred, rownames=['True'], colnames=['Pred'])"
   ]
  },
  {
   "cell_type": "markdown",
   "metadata": {},
   "source": [
    "### Data"
   ]
  },
  {
   "cell_type": "code",
   "execution_count": 4,
   "metadata": {},
   "outputs": [],
   "source": [
    "# Data directory\n",
    "DATADIR = 'UCI_HAR_Dataset'"
   ]
  },
  {
   "cell_type": "code",
   "execution_count": 5,
   "metadata": {},
   "outputs": [],
   "source": [
    "# Raw data signals\n",
    "# Signals are from Accelerometer and Gyroscope\n",
    "# The signals are in x,y,z directions\n",
    "# Sensor signals are filtered to have only body acceleration\n",
    "# excluding the acceleration due to gravity\n",
    "# Triaxial acceleration from the accelerometer is total acceleration\n",
    "SIGNALS = [\n",
    "    \"body_acc_x\",\n",
    "    \"body_acc_y\",\n",
    "    \"body_acc_z\",\n",
    "    \"body_gyro_x\",\n",
    "    \"body_gyro_y\",\n",
    "    \"body_gyro_z\",\n",
    "    \"total_acc_x\",\n",
    "    \"total_acc_y\",\n",
    "    \"total_acc_z\" ]"
   ]
  },
  {
   "cell_type": "code",
   "execution_count": 6,
   "metadata": {},
   "outputs": [],
   "source": [
    "# Utility function to read the data from csv file\n",
    "def _read_csv(filename):\n",
    "    return pd.read_csv(filename, delim_whitespace=True, header=None)\n",
    "\n",
    "# Utility function to load the load\n",
    "def load_signals(subset):\n",
    "    signals_data = []\n",
    "\n",
    "    for signal in SIGNALS:\n",
    "        filename = r'UCI_HAR_Dataset/'+subset+'/Inertial Signals/'+signal+'_'+subset+'.txt'\n",
    "        signals_data.append(\n",
    "            _read_csv(filename).as_matrix()\n",
    "        )\n",
    "    # Transpose is used to change the dimensionality of the output,\n",
    "    # aggregating the signals by combination of sample/timestep.\n",
    "    # Resultant shape is (7352 train/2947 test samples, 128 timesteps, 9 signals)\n",
    "    return np.transpose(signals_data, (1, 2, 0))"
   ]
  },
  {
   "cell_type": "code",
   "execution_count": 7,
   "metadata": {},
   "outputs": [],
   "source": [
    "def load_y(subset):\n",
    "    \"\"\"\n",
    "    The objective that we are trying to predict is a integer, from 1 to 6,\n",
    "    that represents a human activity. We return a binary representation of \n",
    "    every sample objective as a 6 bits vector using One Hot Encoding\n",
    "    (https://pandas.pydata.org/pandas-docs/stable/generated/pandas.get_dummies.html)\n",
    "    \"\"\"\n",
    "    filename = r'UCI_HAR_Dataset/'+subset+'/y_'+subset+'.txt'\n",
    "    y = _read_csv(filename)[0]\n",
    "\n",
    "    return pd.get_dummies(y).as_matrix()"
   ]
  },
  {
   "cell_type": "code",
   "execution_count": 8,
   "metadata": {},
   "outputs": [],
   "source": [
    "def load_data():\n",
    "    \"\"\"\n",
    "    Obtain the dataset from multiple files.\n",
    "    Returns: X_train, X_test, y_train, y_test\n",
    "    \"\"\"\n",
    "    X_train, X_test = load_signals('train'), load_signals('test')\n",
    "    y_train, y_test = load_y('train'), load_y('test')\n",
    "\n",
    "    return X_train, X_test, y_train, y_test"
   ]
  },
  {
   "cell_type": "code",
   "execution_count": 9,
   "metadata": {},
   "outputs": [],
   "source": [
    "# Importing tensorflow\n",
    "np.random.seed(42)\n",
    "import tensorflow as tf\n",
    "tf.set_random_seed(42)"
   ]
  },
  {
   "cell_type": "code",
   "execution_count": 10,
   "metadata": {},
   "outputs": [],
   "source": [
    "# Configuring a session\n",
    "session_conf = tf.ConfigProto(\n",
    "    intra_op_parallelism_threads=1,\n",
    "    inter_op_parallelism_threads=1 )"
   ]
  },
  {
   "cell_type": "code",
   "execution_count": 11,
   "metadata": {},
   "outputs": [
    {
     "name": "stderr",
     "output_type": "stream",
     "text": [
      "Using TensorFlow backend.\n"
     ]
    }
   ],
   "source": [
    "# Import Keras\n",
    "from keras import backend as K\n",
    "sess = tf.Session(graph=tf.get_default_graph(), config=session_conf)\n",
    "K.set_session(sess)"
   ]
  },
  {
   "cell_type": "code",
   "execution_count": 12,
   "metadata": {},
   "outputs": [],
   "source": [
    "# Importing libraries\n",
    "from keras.models import Sequential\n",
    "from keras.layers import LSTM\n",
    "from keras.layers.core import Dense, Dropout"
   ]
  },
  {
   "cell_type": "code",
   "execution_count": 13,
   "metadata": {},
   "outputs": [],
   "source": [
    "# Utility function to count the number of classes\n",
    "def _count_classes(y):\n",
    "    return len(set([tuple(category) for category in y]))"
   ]
  },
  {
   "cell_type": "code",
   "execution_count": 14,
   "metadata": {
    "scrolled": true
   },
   "outputs": [
    {
     "name": "stderr",
     "output_type": "stream",
     "text": [
      "/usr/local/lib/python3.5/dist-packages/ipykernel_launcher.py:12: FutureWarning: Method .as_matrix will be removed in a future version. Use .values instead.\n",
      "  if sys.path[0] == '':\n",
      "/usr/local/lib/python3.5/dist-packages/ipykernel_launcher.py:11: FutureWarning: Method .as_matrix will be removed in a future version. Use .values instead.\n",
      "  # This is added back by InteractiveShellApp.init_path()\n"
     ]
    }
   ],
   "source": [
    "# Loading the train and test data\n",
    "X_train, X_test, Y_train, Y_test = load_data()"
   ]
  },
  {
   "cell_type": "code",
   "execution_count": 15,
   "metadata": {},
   "outputs": [
    {
     "name": "stdout",
     "output_type": "stream",
     "text": [
      "128\n",
      "9\n",
      "7352\n"
     ]
    }
   ],
   "source": [
    "timesteps = len(X_train[0])\n",
    "input_dim = len(X_train[0][0])\n",
    "n_classes = _count_classes(Y_train)\n",
    "\n",
    "print(timesteps)\n",
    "print(input_dim)\n",
    "print(len(X_train))"
   ]
  },
  {
   "cell_type": "code",
   "execution_count": 16,
   "metadata": {},
   "outputs": [],
   "source": [
    "# Initializing parameters\n",
    "nb_epochs = 30\n",
    "batch_size = 32\n",
    "#n_hidden = 32"
   ]
  },
  {
   "cell_type": "code",
   "execution_count": 17,
   "metadata": {},
   "outputs": [
    {
     "data": {
      "text/plain": [
       "(7352, 128, 9)"
      ]
     },
     "execution_count": 17,
     "metadata": {},
     "output_type": "execute_result"
    }
   ],
   "source": [
    "X_train.shape"
   ]
  },
  {
   "cell_type": "markdown",
   "metadata": {},
   "source": [
    "- Defining the Architecture of LSTM"
   ]
  },
  {
   "cell_type": "markdown",
   "metadata": {},
   "source": [
    "- With a simple 2 layer architecture we got 90.09% accuracy and a loss of 0.30\n",
    "- We can further imporve the performace with Hyperparameter tuning"
   ]
  },
  {
   "cell_type": "code",
   "execution_count": 18,
   "metadata": {},
   "outputs": [],
   "source": [
    "from keras.optimizers import Adam,RMSprop,SGD\n",
    "from keras.layers.normalization import BatchNormalization\n",
    "def best_hyperparameters(n_hidden, drp):# , optm, activ\n",
    "    # Initiliazing the sequential model\n",
    "    model = Sequential()\n",
    "    # Configuring the parameters\n",
    "    model.add(LSTM(n_hidden, input_shape=(timesteps, input_dim)))\n",
    "    model.add(BatchNormalization())\n",
    "    # Adding a dropout layer\n",
    "    model.add(Dropout(drp))\n",
    "    # Adding a dense output layer with sigmoid activation\n",
    "    model.add(Dense(n_classes, activation='sigmoid'))\n",
    "    # Compiling the model\n",
    "    model.compile(loss='categorical_crossentropy',optimizer='rmsprop' ,metrics=['accuracy'])\n",
    "    \n",
    "    return model"
   ]
  },
  {
   "cell_type": "code",
   "execution_count": 19,
   "metadata": {},
   "outputs": [
    {
     "name": "stdout",
     "output_type": "stream",
     "text": [
      "WARNING:tensorflow:From /usr/local/lib/python3.5/dist-packages/tensorflow_core/python/ops/resource_variable_ops.py:1630: calling BaseResourceVariable.__init__ (from tensorflow.python.ops.resource_variable_ops) with constraint is deprecated and will be removed in a future version.\n",
      "Instructions for updating:\n",
      "If using Keras pass *_constraint arguments to layers.\n"
     ]
    },
    {
     "name": "stderr",
     "output_type": "stream",
     "text": [
      "/usr/local/lib/python3.5/dist-packages/sklearn/model_selection/_split.py:1978: FutureWarning: The default value of cv will change from 3 to 5 in version 0.22. Specify it explicitly to silence this warning.\n",
      "  warnings.warn(CV_WARNING, FutureWarning)\n"
     ]
    },
    {
     "name": "stdout",
     "output_type": "stream",
     "text": [
      "WARNING:tensorflow:From /usr/local/lib/python3.5/dist-packages/tensorflow_core/python/ops/math_grad.py:1424: where (from tensorflow.python.ops.array_ops) is deprecated and will be removed in a future version.\n",
      "Instructions for updating:\n",
      "Use tf.where in 2.0, which has the same broadcast rule as np.where\n",
      "WARNING:tensorflow:From /usr/local/lib/python3.5/dist-packages/keras/backend/tensorflow_backend.py:422: The name tf.global_variables is deprecated. Please use tf.compat.v1.global_variables instead.\n",
      "\n"
     ]
    }
   ],
   "source": [
    "n_hidden = [164,90]\n",
    "drp = [0.25,0.5]\n",
    "\n",
    "from keras.wrappers.scikit_learn import KerasClassifier\n",
    "from sklearn.model_selection import GridSearchCV\n",
    "\n",
    "model = KerasClassifier(build_fn=best_hyperparameters , epochs= 30, batch_size= 32, verbose=0)\n",
    "param_grid = dict(n_hidden = n_hidden, drp = drp) #, activ = activ, optm=optm \n",
    "\n",
    "grid = GridSearchCV(estimator=model, param_grid=param_grid)\n",
    "grid_result = grid.fit(X_train, Y_train)"
   ]
  },
  {
   "cell_type": "code",
   "execution_count": 20,
   "metadata": {},
   "outputs": [
    {
     "name": "stdout",
     "output_type": "stream",
     "text": [
      "Best: 0.930359 using {'n_hidden': 90, 'drp': 0.25}\n",
      "0.921790 (0.020000) with: {'n_hidden': 164, 'drp': 0.25}\n",
      "0.930359 (0.017256) with: {'n_hidden': 90, 'drp': 0.25}\n",
      "0.920702 (0.022521) with: {'n_hidden': 164, 'drp': 0.5}\n",
      "0.923286 (0.002345) with: {'n_hidden': 90, 'drp': 0.5}\n"
     ]
    }
   ],
   "source": [
    "print(\"Best: %f using %s\" % (grid_result.best_score_ , grid_result.best_params_ ))\n",
    "means  = grid_result.cv_results_['mean_test_score']\n",
    "stds   = grid_result.cv_results_['std_test_score']\n",
    "params = grid_result.cv_results_['params']\n",
    "for mean, stdev, param in zip(means, stds, params):\n",
    "    print(\"%f (%f) with: %r\" % (mean, stdev, param))"
   ]
  },
  {
   "cell_type": "code",
   "execution_count": 21,
   "metadata": {},
   "outputs": [],
   "source": [
    "best_n_hidden = grid_result.best_params_['n_hidden']\n",
    "best_drp = grid_result.best_params_['drp']"
   ]
  },
  {
   "cell_type": "markdown",
   "metadata": {},
   "source": [
    "### with best parameters we shall fit the model"
   ]
  },
  {
   "cell_type": "code",
   "execution_count": 25,
   "metadata": {},
   "outputs": [
    {
     "name": "stdout",
     "output_type": "stream",
     "text": [
      "Model: \"sequential_3\"\n",
      "_________________________________________________________________\n",
      "Layer (type)                 Output Shape              Param #   \n",
      "=================================================================\n",
      "lstm_3 (LSTM)                (None, 164)               114144    \n",
      "_________________________________________________________________\n",
      "batch_normalization_2 (Batch (None, 164)               656       \n",
      "_________________________________________________________________\n",
      "dropout_2 (Dropout)          (None, 164)               0         \n",
      "_________________________________________________________________\n",
      "dense_2 (Dense)              (None, 6)                 990       \n",
      "=================================================================\n",
      "Total params: 115,790\n",
      "Trainable params: 115,462\n",
      "Non-trainable params: 328\n",
      "_________________________________________________________________\n",
      "None\n",
      "Train on 7352 samples, validate on 2947 samples\n",
      "Epoch 1/30\n",
      "7352/7352 [==============================] - 40s 5ms/step - loss: 0.9908 - accuracy: 0.5672 - val_loss: 0.9981 - val_accuracy: 0.5585\n",
      "Epoch 2/30\n",
      "7352/7352 [==============================] - 40s 5ms/step - loss: 0.7155 - accuracy: 0.6715 - val_loss: 0.8602 - val_accuracy: 0.5860\n",
      "Epoch 3/30\n",
      "7352/7352 [==============================] - 41s 6ms/step - loss: 0.5643 - accuracy: 0.7539 - val_loss: 0.5821 - val_accuracy: 0.7567\n",
      "Epoch 4/30\n",
      "7352/7352 [==============================] - 40s 5ms/step - loss: 0.3222 - accuracy: 0.8942 - val_loss: 0.4910 - val_accuracy: 0.8466\n",
      "Epoch 5/30\n",
      "7352/7352 [==============================] - 40s 5ms/step - loss: 0.2157 - accuracy: 0.9261 - val_loss: 0.6488 - val_accuracy: 0.7900\n",
      "Epoch 6/30\n",
      "7352/7352 [==============================] - 40s 5ms/step - loss: 0.2173 - accuracy: 0.9268 - val_loss: 0.4679 - val_accuracy: 0.8772\n",
      "Epoch 7/30\n",
      "7352/7352 [==============================] - 40s 5ms/step - loss: 0.1735 - accuracy: 0.9350 - val_loss: 0.2675 - val_accuracy: 0.9040\n",
      "Epoch 8/30\n",
      "7352/7352 [==============================] - 41s 6ms/step - loss: 0.1588 - accuracy: 0.9357 - val_loss: 0.3555 - val_accuracy: 0.9101\n",
      "Epoch 9/30\n",
      "7352/7352 [==============================] - 41s 6ms/step - loss: 0.1484 - accuracy: 0.9385 - val_loss: 0.3610 - val_accuracy: 0.9121\n",
      "Epoch 10/30\n",
      "7352/7352 [==============================] - 41s 6ms/step - loss: 0.1583 - accuracy: 0.9384 - val_loss: 0.3718 - val_accuracy: 0.9033\n",
      "Epoch 11/30\n",
      "7352/7352 [==============================] - 41s 6ms/step - loss: 0.1308 - accuracy: 0.9448 - val_loss: 0.2996 - val_accuracy: 0.9264\n",
      "Epoch 12/30\n",
      "7352/7352 [==============================] - 41s 6ms/step - loss: 0.1539 - accuracy: 0.9384 - val_loss: 0.4669 - val_accuracy: 0.8700\n",
      "Epoch 13/30\n",
      "7352/7352 [==============================] - 41s 6ms/step - loss: 0.1614 - accuracy: 0.9450 - val_loss: 0.2993 - val_accuracy: 0.9138\n",
      "Epoch 14/30\n",
      "7352/7352 [==============================] - 41s 6ms/step - loss: 0.1422 - accuracy: 0.9419 - val_loss: 0.4176 - val_accuracy: 0.9033\n",
      "Epoch 15/30\n",
      "7352/7352 [==============================] - 41s 6ms/step - loss: 0.1488 - accuracy: 0.9421 - val_loss: 0.2553 - val_accuracy: 0.9199\n",
      "Epoch 16/30\n",
      "7352/7352 [==============================] - 41s 6ms/step - loss: 0.1380 - accuracy: 0.9414 - val_loss: 0.3035 - val_accuracy: 0.9118\n",
      "Epoch 17/30\n",
      "7352/7352 [==============================] - 41s 6ms/step - loss: 0.1342 - accuracy: 0.9411 - val_loss: 0.3331 - val_accuracy: 0.9121\n",
      "Epoch 18/30\n",
      "7352/7352 [==============================] - 42s 6ms/step - loss: 0.1322 - accuracy: 0.9418 - val_loss: 0.2867 - val_accuracy: 0.9135\n",
      "Epoch 19/30\n",
      "7352/7352 [==============================] - 40s 6ms/step - loss: 0.1350 - accuracy: 0.9449 - val_loss: 0.4362 - val_accuracy: 0.9155\n",
      "Epoch 20/30\n",
      "7352/7352 [==============================] - 41s 6ms/step - loss: 0.1293 - accuracy: 0.9465 - val_loss: 0.2710 - val_accuracy: 0.9141\n",
      "Epoch 21/30\n",
      "7352/7352 [==============================] - 41s 6ms/step - loss: 0.1288 - accuracy: 0.9483 - val_loss: 0.3034 - val_accuracy: 0.9213\n",
      "Epoch 22/30\n",
      "7352/7352 [==============================] - 41s 6ms/step - loss: 0.1176 - accuracy: 0.9464 - val_loss: 0.4411 - val_accuracy: 0.9033\n",
      "Epoch 23/30\n",
      "7352/7352 [==============================] - 40s 6ms/step - loss: 0.1190 - accuracy: 0.9479 - val_loss: 0.2742 - val_accuracy: 0.9291\n",
      "Epoch 24/30\n",
      "7352/7352 [==============================] - 40s 5ms/step - loss: 0.1206 - accuracy: 0.9482 - val_loss: 0.3019 - val_accuracy: 0.9131\n",
      "Epoch 25/30\n",
      "7352/7352 [==============================] - 41s 6ms/step - loss: 0.1139 - accuracy: 0.9508 - val_loss: 0.2943 - val_accuracy: 0.9216\n",
      "Epoch 26/30\n",
      "7352/7352 [==============================] - 42s 6ms/step - loss: 0.1292 - accuracy: 0.9486 - val_loss: 0.3763 - val_accuracy: 0.9158\n",
      "Epoch 27/30\n",
      "7352/7352 [==============================] - 41s 6ms/step - loss: 0.1239 - accuracy: 0.9497 - val_loss: 0.3747 - val_accuracy: 0.9362\n",
      "Epoch 28/30\n",
      "7352/7352 [==============================] - 41s 6ms/step - loss: 0.1195 - accuracy: 0.9531 - val_loss: 0.6120 - val_accuracy: 0.9026\n",
      "Epoch 29/30\n",
      "7352/7352 [==============================] - 41s 6ms/step - loss: 0.1174 - accuracy: 0.9498 - val_loss: 0.3295 - val_accuracy: 0.9182\n",
      "Epoch 30/30\n",
      "7352/7352 [==============================] - 41s 6ms/step - loss: 0.1174 - accuracy: 0.9516 - val_loss: 0.3716 - val_accuracy: 0.9301\n"
     ]
    }
   ],
   "source": [
    "# Initiliazing the sequential model\n",
    "model = Sequential()\n",
    "# Configuring the parameters\n",
    "model.add(LSTM(best_n_hidden, input_shape=(timesteps, input_dim)))\n",
    "model.add(BatchNormalization())\n",
    "# Adding a dropout layer\n",
    "model.add(Dropout(best_drp))\n",
    "# Adding a dense output layer with sigmoid activation\n",
    "model.add(Dense(n_classes, activation='sigmoid'))\n",
    "print(model.summary())\n",
    "# Compiling the model\n",
    "model.compile(loss='categorical_crossentropy', optimizer= 'rmsprop' , metrics=['accuracy'])\n",
    "\n",
    "# Training the model # batch_size=batch_size\n",
    "history= model.fit(X_train, Y_train, validation_data=(X_test, Y_test), epochs=nb_epochs)"
   ]
  },
  {
   "cell_type": "code",
   "execution_count": 26,
   "metadata": {},
   "outputs": [
    {
     "data": {
      "text/html": [
       "<div>\n",
       "<style scoped>\n",
       "    .dataframe tbody tr th:only-of-type {\n",
       "        vertical-align: middle;\n",
       "    }\n",
       "\n",
       "    .dataframe tbody tr th {\n",
       "        vertical-align: top;\n",
       "    }\n",
       "\n",
       "    .dataframe thead th {\n",
       "        text-align: right;\n",
       "    }\n",
       "</style>\n",
       "<table border=\"1\" class=\"dataframe\">\n",
       "  <thead>\n",
       "    <tr style=\"text-align: right;\">\n",
       "      <th>Pred</th>\n",
       "      <th>LAYING</th>\n",
       "      <th>SITTING</th>\n",
       "      <th>STANDING</th>\n",
       "      <th>WALKING</th>\n",
       "      <th>WALKING_DOWNSTAIRS</th>\n",
       "      <th>WALKING_UPSTAIRS</th>\n",
       "    </tr>\n",
       "    <tr>\n",
       "      <th>True</th>\n",
       "      <th></th>\n",
       "      <th></th>\n",
       "      <th></th>\n",
       "      <th></th>\n",
       "      <th></th>\n",
       "      <th></th>\n",
       "    </tr>\n",
       "  </thead>\n",
       "  <tbody>\n",
       "    <tr>\n",
       "      <th>LAYING</th>\n",
       "      <td>537</td>\n",
       "      <td>0</td>\n",
       "      <td>0</td>\n",
       "      <td>0</td>\n",
       "      <td>0</td>\n",
       "      <td>0</td>\n",
       "    </tr>\n",
       "    <tr>\n",
       "      <th>SITTING</th>\n",
       "      <td>7</td>\n",
       "      <td>409</td>\n",
       "      <td>75</td>\n",
       "      <td>0</td>\n",
       "      <td>0</td>\n",
       "      <td>0</td>\n",
       "    </tr>\n",
       "    <tr>\n",
       "      <th>STANDING</th>\n",
       "      <td>0</td>\n",
       "      <td>59</td>\n",
       "      <td>468</td>\n",
       "      <td>5</td>\n",
       "      <td>0</td>\n",
       "      <td>0</td>\n",
       "    </tr>\n",
       "    <tr>\n",
       "      <th>WALKING</th>\n",
       "      <td>0</td>\n",
       "      <td>3</td>\n",
       "      <td>3</td>\n",
       "      <td>470</td>\n",
       "      <td>19</td>\n",
       "      <td>1</td>\n",
       "    </tr>\n",
       "    <tr>\n",
       "      <th>WALKING_DOWNSTAIRS</th>\n",
       "      <td>0</td>\n",
       "      <td>0</td>\n",
       "      <td>0</td>\n",
       "      <td>6</td>\n",
       "      <td>411</td>\n",
       "      <td>3</td>\n",
       "    </tr>\n",
       "    <tr>\n",
       "      <th>WALKING_UPSTAIRS</th>\n",
       "      <td>0</td>\n",
       "      <td>5</td>\n",
       "      <td>0</td>\n",
       "      <td>8</td>\n",
       "      <td>12</td>\n",
       "      <td>446</td>\n",
       "    </tr>\n",
       "  </tbody>\n",
       "</table>\n",
       "</div>"
      ],
      "text/plain": [
       "Pred                LAYING  SITTING  STANDING  WALKING  WALKING_DOWNSTAIRS  \\\n",
       "True                                                                         \n",
       "LAYING                 537        0         0        0                   0   \n",
       "SITTING                  7      409        75        0                   0   \n",
       "STANDING                 0       59       468        5                   0   \n",
       "WALKING                  0        3         3      470                  19   \n",
       "WALKING_DOWNSTAIRS       0        0         0        6                 411   \n",
       "WALKING_UPSTAIRS         0        5         0        8                  12   \n",
       "\n",
       "Pred                WALKING_UPSTAIRS  \n",
       "True                                  \n",
       "LAYING                             0  \n",
       "SITTING                            0  \n",
       "STANDING                           0  \n",
       "WALKING                            1  \n",
       "WALKING_DOWNSTAIRS                 3  \n",
       "WALKING_UPSTAIRS                 446  "
      ]
     },
     "execution_count": 26,
     "metadata": {},
     "output_type": "execute_result"
    }
   ],
   "source": [
    "# Confusion Matrix\n",
    "confusion_matrix(Y_test, model.predict(X_test))"
   ]
  },
  {
   "cell_type": "code",
   "execution_count": 27,
   "metadata": {},
   "outputs": [
    {
     "name": "stdout",
     "output_type": "stream",
     "text": [
      "2947/2947 [==============================] - 8s 3ms/step\n"
     ]
    }
   ],
   "source": [
    "score = model.evaluate(X_test, Y_test)"
   ]
  },
  {
   "cell_type": "code",
   "execution_count": 28,
   "metadata": {},
   "outputs": [
    {
     "data": {
      "text/plain": [
       "[0.3716111829415973, 0.9300984144210815]"
      ]
     },
     "execution_count": 28,
     "metadata": {},
     "output_type": "execute_result"
    }
   ],
   "source": [
    "score"
   ]
  },
  {
   "cell_type": "code",
   "execution_count": 29,
   "metadata": {},
   "outputs": [
    {
     "data": {
      "image/png": "[encoded data removed]",
      "text/plain": [
       "<Figure size 432x288 with 1 Axes>"
      ]
     },
     "metadata": {
      "needs_background": "light"
     },
     "output_type": "display_data"
    }
   ],
   "source": [
    "%matplotlib inline\n",
    "import matplotlib.pyplot as plt\n",
    "import numpy as np\n",
    "import time\n",
    "\n",
    "def plt_dynamic(x, vy, ty, ax, colors=['b']):\n",
    "    ax.plot(x, vy, 'b', label= \"Validation Loss\")\n",
    "    ax.plot(x, ty, 'r', label= \"Train Loss\")\n",
    "    plt.legend()\n",
    "    plt.grid()\n",
    "    fig.canvas.draw()\n",
    "    \n",
    "nb_epoch=30\n",
    "fig,ax = plt.subplots(1,1)\n",
    "ax.set_xlabel('epoch') \n",
    "ax.set_ylabel('Categorical Crossentropy Loss')\n",
    "\n",
    "# list of epoch numbers\n",
    "x = list(range(1,nb_epoch+1))\n",
    "vy = history.history['val_loss']\n",
    "ty = history.history['loss']\n",
    "plt_dynamic(x, vy, ty, ax)"
   ]
  },
  {
   "cell_type": "markdown",
   "metadata": {},
   "source": [
    "## Applying the CNN's architecture from the below paper publication."
   ]
  },
  {
   "cell_type": "markdown",
   "metadata": {},
   "source": [
    " * https://machinelearningmastery.com/deep-learning-models-for-human-activity-recognition/\n",
    " * https://www.mdpi.com/1424-8220/18/4/1055\n",
    " * https://drive.google.com/file/d/1IKEKfBD1ZjTsHzx9Ft4PNpC3kbuI32IZ/view"
   ]
  },
  {
   "cell_type": "code",
   "execution_count": 19,
   "metadata": {},
   "outputs": [],
   "source": [
    "from keras.layers import Dense, Dropout, Flatten\n",
    "#from keras.layers import Conv2D, MaxPooling2D\n",
    "from keras.initializers import RandomNormal\n",
    "from keras.models import Sequential \n",
    "from keras.layers import Dense, Activation \n",
    "from keras.layers.normalization import BatchNormalization\n",
    "from keras.layers import Dropout\n",
    "from keras.layers.convolutional import Conv1D"
   ]
  },
  {
   "cell_type": "code",
   "execution_count": 18,
   "metadata": {},
   "outputs": [
    {
     "name": "stdout",
     "output_type": "stream",
     "text": [
      "WARNING:tensorflow:From /usr/local/lib/python3.5/dist-packages/tensorflow_core/python/ops/resource_variable_ops.py:1630: calling BaseResourceVariable.__init__ (from tensorflow.python.ops.resource_variable_ops) with constraint is deprecated and will be removed in a future version.\n",
      "Instructions for updating:\n",
      "If using Keras pass *_constraint arguments to layers.\n",
      "Model: \"sequential_1\"\n",
      "_________________________________________________________________\n",
      "Layer (type)                 Output Shape              Param #   \n",
      "=================================================================\n",
      "conv1d_1 (Conv1D)            (None, 126, 30)           840       \n",
      "_________________________________________________________________\n",
      "batch_normalization_1 (Batch (None, 126, 30)           120       \n",
      "_________________________________________________________________\n",
      "conv1d_2 (Conv1D)            (None, 124, 50)           4550      \n",
      "_________________________________________________________________\n",
      "batch_normalization_2 (Batch (None, 124, 50)           200       \n",
      "_________________________________________________________________\n",
      "conv1d_3 (Conv1D)            (None, 122, 100)          15100     \n",
      "_________________________________________________________________\n",
      "batch_normalization_3 (Batch (None, 122, 100)          400       \n",
      "_________________________________________________________________\n",
      "conv1d_4 (Conv1D)            (None, 120, 300)          90300     \n",
      "_________________________________________________________________\n",
      "batch_normalization_4 (Batch (None, 120, 300)          1200      \n",
      "_________________________________________________________________\n",
      "conv1d_5 (Conv1D)            (None, 118, 500)          450500    \n",
      "_________________________________________________________________\n",
      "batch_normalization_5 (Batch (None, 118, 500)          2000      \n",
      "_________________________________________________________________\n",
      "lstm_1 (LSTM)                (None, 118, 500)          2002000   \n",
      "_________________________________________________________________\n",
      "dropout_1 (Dropout)          (None, 118, 500)          0         \n",
      "_________________________________________________________________\n",
      "flatten_1 (Flatten)          (None, 59000)             0         \n",
      "_________________________________________________________________\n",
      "dense_1 (Dense)              (None, 6)                 354006    \n",
      "=================================================================\n",
      "Total params: 2,921,216\n",
      "Trainable params: 2,919,256\n",
      "Non-trainable params: 1,960\n",
      "_________________________________________________________________\n",
      "None\n",
      "WARNING:tensorflow:From /usr/local/lib/python3.5/dist-packages/keras/backend/tensorflow_backend.py:422: The name tf.global_variables is deprecated. Please use tf.compat.v1.global_variables instead.\n",
      "\n",
      "Train on 7352 samples, validate on 2947 samples\n",
      "Epoch 1/30\n",
      "7352/7352 [==============================] - 35s 5ms/step - loss: 0.5310 - accuracy: 0.8817 - val_loss: 3.2352 - val_accuracy: 0.4462\n",
      "Epoch 2/30\n",
      "7352/7352 [==============================] - 31s 4ms/step - loss: 0.2834 - accuracy: 0.9208 - val_loss: 0.9682 - val_accuracy: 0.8826\n",
      "Epoch 3/30\n",
      "7352/7352 [==============================] - 33s 4ms/step - loss: 0.2393 - accuracy: 0.9314 - val_loss: 0.2806 - val_accuracy: 0.9125\n",
      "Epoch 4/30\n",
      "7352/7352 [==============================] - 32s 4ms/step - loss: 0.1668 - accuracy: 0.9422 - val_loss: 0.6043 - val_accuracy: 0.8897\n",
      "Epoch 5/30\n",
      "7352/7352 [==============================] - 31s 4ms/step - loss: 0.1387 - accuracy: 0.9425 - val_loss: 0.2635 - val_accuracy: 0.9332\n",
      "Epoch 6/30\n",
      "7352/7352 [==============================] - 32s 4ms/step - loss: 0.1142 - accuracy: 0.9513 - val_loss: 0.1816 - val_accuracy: 0.9359\n",
      "Epoch 7/30\n",
      "7352/7352 [==============================] - 32s 4ms/step - loss: 0.1196 - accuracy: 0.9495 - val_loss: 0.3669 - val_accuracy: 0.9233\n",
      "Epoch 8/30\n",
      "7352/7352 [==============================] - 31s 4ms/step - loss: 0.1324 - accuracy: 0.9486 - val_loss: 0.6140 - val_accuracy: 0.9087\n",
      "Epoch 9/30\n",
      "7352/7352 [==============================] - 31s 4ms/step - loss: 0.1578 - accuracy: 0.9433 - val_loss: 0.7755 - val_accuracy: 0.8867\n",
      "Epoch 10/30\n",
      "7352/7352 [==============================] - 32s 4ms/step - loss: 0.3376 - accuracy: 0.9279 - val_loss: 0.6024 - val_accuracy: 0.9053\n",
      "Epoch 11/30\n",
      "7352/7352 [==============================] - 31s 4ms/step - loss: 0.1496 - accuracy: 0.9465 - val_loss: 0.4099 - val_accuracy: 0.9148\n",
      "Epoch 12/30\n",
      "7352/7352 [==============================] - 31s 4ms/step - loss: 0.1235 - accuracy: 0.9491 - val_loss: 0.3437 - val_accuracy: 0.9108\n",
      "Epoch 13/30\n",
      "7352/7352 [==============================] - 31s 4ms/step - loss: 0.1295 - accuracy: 0.9470 - val_loss: 0.3779 - val_accuracy: 0.9033\n",
      "Epoch 14/30\n",
      "7352/7352 [==============================] - 31s 4ms/step - loss: 0.1111 - accuracy: 0.9542 - val_loss: 0.2959 - val_accuracy: 0.9209\n",
      "Epoch 15/30\n",
      "7352/7352 [==============================] - 31s 4ms/step - loss: 0.2081 - accuracy: 0.9433 - val_loss: 0.6604 - val_accuracy: 0.9216\n",
      "Epoch 16/30\n",
      "7352/7352 [==============================] - 31s 4ms/step - loss: 0.1628 - accuracy: 0.9436 - val_loss: 0.6816 - val_accuracy: 0.8999\n",
      "Epoch 17/30\n",
      "7352/7352 [==============================] - 31s 4ms/step - loss: 0.1510 - accuracy: 0.9468 - val_loss: 0.3023 - val_accuracy: 0.9233\n",
      "Epoch 18/30\n",
      "7352/7352 [==============================] - 31s 4ms/step - loss: 0.1670 - accuracy: 0.9478 - val_loss: 0.3215 - val_accuracy: 0.9253\n",
      "Epoch 19/30\n",
      "7352/7352 [==============================] - 31s 4ms/step - loss: 0.2044 - accuracy: 0.9455 - val_loss: 0.7679 - val_accuracy: 0.9128\n",
      "Epoch 20/30\n",
      "7352/7352 [==============================] - 32s 4ms/step - loss: 0.1582 - accuracy: 0.9474 - val_loss: 0.7703 - val_accuracy: 0.9148\n",
      "Epoch 21/30\n",
      "7352/7352 [==============================] - 32s 4ms/step - loss: 0.1723 - accuracy: 0.9504 - val_loss: 0.4835 - val_accuracy: 0.9084\n",
      "Epoch 22/30\n",
      "7352/7352 [==============================] - 32s 4ms/step - loss: 0.1284 - accuracy: 0.9501 - val_loss: 0.5307 - val_accuracy: 0.9111\n",
      "Epoch 23/30\n",
      "7352/7352 [==============================] - 31s 4ms/step - loss: 0.1272 - accuracy: 0.9547 - val_loss: 0.4362 - val_accuracy: 0.9145\n",
      "Epoch 24/30\n",
      "7352/7352 [==============================] - 31s 4ms/step - loss: 0.1187 - accuracy: 0.9554 - val_loss: 0.3335 - val_accuracy: 0.9169\n",
      "Epoch 25/30\n",
      "7352/7352 [==============================] - 31s 4ms/step - loss: 0.1242 - accuracy: 0.9528 - val_loss: 0.4226 - val_accuracy: 0.9053\n",
      "Epoch 26/30\n",
      "7352/7352 [==============================] - 31s 4ms/step - loss: 0.1111 - accuracy: 0.9544 - val_loss: 0.4414 - val_accuracy: 0.9277\n",
      "Epoch 27/30\n",
      "7352/7352 [==============================] - 31s 4ms/step - loss: 0.1179 - accuracy: 0.9531 - val_loss: 0.6941 - val_accuracy: 0.9087\n",
      "Epoch 28/30\n",
      "7352/7352 [==============================] - 31s 4ms/step - loss: 0.1097 - accuracy: 0.9558 - val_loss: 0.6305 - val_accuracy: 0.9097\n",
      "Epoch 29/30\n",
      "7352/7352 [==============================] - 31s 4ms/step - loss: 0.1492 - accuracy: 0.9514 - val_loss: 0.8571 - val_accuracy: 0.8778\n",
      "Epoch 30/30\n",
      "7352/7352 [==============================] - 30s 4ms/step - loss: 0.1466 - accuracy: 0.9529 - val_loss: 0.4498 - val_accuracy: 0.9209\n",
      "Accuracy: 92.09%\n"
     ]
    }
   ],
   "source": [
    "# Initiliazing the sequential model\n",
    "model1 = Sequential()\n",
    "model1.add(Conv1D(30, kernel_size=3,activation='relu',input_shape=(timesteps, input_dim)))\n",
    "model1.add(BatchNormalization())\n",
    "model1.add(Conv1D(50, 3, activation='relu'))\n",
    "model1.add(BatchNormalization())\n",
    "model1.add(Conv1D(100, 3, activation='relu'))\n",
    "model1.add(BatchNormalization())\n",
    "model1.add(Conv1D(300, 3, activation='relu'))\n",
    "model1.add(BatchNormalization())\n",
    "model1.add(Conv1D(500, 3, activation='relu'))\n",
    "model1.add(BatchNormalization())\n",
    "model1.add(LSTM(500, return_sequences = True))\n",
    "model1.add(Dropout(0.5))\n",
    "model1.add(Flatten())\n",
    "#model1.add(Dense(500,activation='relu'))\n",
    "\n",
    "model1.add(Dense(n_classes, activation='softmax'))\n",
    "print(model1.summary())\n",
    "\n",
    "# Compiling the model\n",
    "model1.compile(loss='categorical_crossentropy',optimizer='adam' ,metrics=['accuracy'])\n",
    "\n",
    "# Training the model # batch_size=batch_size\n",
    "history = model1.fit(X_train,Y_train,validation_data=(X_test, Y_test),epochs=30)\n",
    "scores1 = model1.evaluate(X_test, Y_test, verbose=0)\n",
    "print(\"Accuracy: %.2f%%\" % (scores1[1]*100))"
   ]
  },
  {
   "cell_type": "code",
   "execution_count": 19,
   "metadata": {},
   "outputs": [
    {
     "data": {
      "image/png": "[encoded data removed]",
      "text/plain": [
       "<Figure size 432x288 with 1 Axes>"
      ]
     },
     "metadata": {
      "needs_background": "light"
     },
     "output_type": "display_data"
    }
   ],
   "source": [
    "%matplotlib inline\n",
    "import matplotlib.pyplot as plt\n",
    "import numpy as np\n",
    "import time\n",
    "\n",
    "def plt_dynamic(x, vy, ty, ax, colors=['b']):\n",
    "    ax.plot(x, vy, 'b', label= \"Validation Loss\")\n",
    "    ax.plot(x, ty, 'r', label= \"Train Loss\")\n",
    "    plt.legend()\n",
    "    plt.grid()\n",
    "    fig.canvas.draw()\n",
    "nb_epoch=30\n",
    "fig,ax = plt.subplots(1,1)\n",
    "ax.set_xlabel('epoch') \n",
    "ax.set_ylabel('Categorical Crossentropy Loss')\n",
    "\n",
    "# list of epoch numbers\n",
    "x = list(range(1,nb_epoch+1))\n",
    "vy = history.history['val_loss']\n",
    "ty = history.history['loss']\n",
    "plt_dynamic(x, vy, ty, ax)"
   ]
  },
  {
   "cell_type": "markdown",
   "metadata": {},
   "source": [
    "## With 2 LSTM Layers"
   ]
  },
  {
   "cell_type": "code",
   "execution_count": 23,
   "metadata": {},
   "outputs": [
    {
     "name": "stdout",
     "output_type": "stream",
     "text": [
      "Model: \"sequential_15\"\n",
      "_________________________________________________________________\n",
      "Layer (type)                 Output Shape              Param #   \n",
      "=================================================================\n",
      "lstm_15 (LSTM)               (None, 128, 164)          114144    \n",
      "_________________________________________________________________\n",
      "dropout_15 (Dropout)         (None, 128, 164)          0         \n",
      "_________________________________________________________________\n",
      "lstm_16 (LSTM)               (None, 64)                58624     \n",
      "_________________________________________________________________\n",
      "dropout_16 (Dropout)         (None, 64)                0         \n",
      "_________________________________________________________________\n",
      "dense_15 (Dense)             (None, 6)                 390       \n",
      "=================================================================\n",
      "Total params: 173,158\n",
      "Trainable params: 173,158\n",
      "Non-trainable params: 0\n",
      "_________________________________________________________________\n",
      "None\n",
      "Train on 7352 samples, validate on 2947 samples\n",
      "Epoch 1/30\n",
      "7352/7352 [==============================] - 59s 8ms/step - loss: 1.2102 - accuracy: 0.4718 - val_loss: 0.8287 - val_accuracy: 0.6138\n",
      "Epoch 2/30\n",
      "7352/7352 [==============================] - 56s 8ms/step - loss: 0.7486 - accuracy: 0.6357 - val_loss: 0.7823 - val_accuracy: 0.6257\n",
      "Epoch 3/30\n",
      "7352/7352 [==============================] - 56s 8ms/step - loss: 0.7429 - accuracy: 0.6492 - val_loss: 2.2149 - val_accuracy: 0.3427\n",
      "Epoch 4/30\n",
      "7352/7352 [==============================] - 57s 8ms/step - loss: 0.7491 - accuracy: 0.6504 - val_loss: 1.3721 - val_accuracy: 0.3105\n",
      "Epoch 5/30\n",
      "7352/7352 [==============================] - 57s 8ms/step - loss: 1.2643 - accuracy: 0.4410 - val_loss: 0.5940 - val_accuracy: 0.6790\n",
      "Epoch 6/30\n",
      "7352/7352 [==============================] - 56s 8ms/step - loss: 0.4135 - accuracy: 0.8560 - val_loss: 0.3038 - val_accuracy: 0.8928\n",
      "Epoch 7/30\n",
      "7352/7352 [==============================] - 55s 7ms/step - loss: 0.2608 - accuracy: 0.9184 - val_loss: 0.3208 - val_accuracy: 0.8860\n",
      "Epoch 8/30\n",
      "7352/7352 [==============================] - 54s 7ms/step - loss: 0.2154 - accuracy: 0.9283 - val_loss: 0.2575 - val_accuracy: 0.9182\n",
      "Epoch 9/30\n",
      "7352/7352 [==============================] - 55s 7ms/step - loss: 0.1718 - accuracy: 0.9392 - val_loss: 0.3266 - val_accuracy: 0.9057\n",
      "Epoch 10/30\n",
      "7352/7352 [==============================] - 54s 7ms/step - loss: 0.1757 - accuracy: 0.9388 - val_loss: 0.2798 - val_accuracy: 0.9169\n",
      "Epoch 11/30\n",
      "7352/7352 [==============================] - 55s 7ms/step - loss: 0.1609 - accuracy: 0.9437 - val_loss: 0.3107 - val_accuracy: 0.9148\n",
      "Epoch 12/30\n",
      "7352/7352 [==============================] - 55s 8ms/step - loss: 0.1413 - accuracy: 0.9480 - val_loss: 0.3420 - val_accuracy: 0.9162\n",
      "Epoch 13/30\n",
      "7352/7352 [==============================] - 55s 8ms/step - loss: 0.1476 - accuracy: 0.9483 - val_loss: 0.3976 - val_accuracy: 0.8965\n",
      "Epoch 14/30\n",
      "7352/7352 [==============================] - 55s 7ms/step - loss: 0.1410 - accuracy: 0.9480 - val_loss: 0.3784 - val_accuracy: 0.9033\n",
      "Epoch 15/30\n",
      "7352/7352 [==============================] - 55s 8ms/step - loss: 0.1497 - accuracy: 0.9490 - val_loss: 0.3512 - val_accuracy: 0.9179\n",
      "Epoch 16/30\n",
      "7352/7352 [==============================] - 55s 8ms/step - loss: 0.1365 - accuracy: 0.9478 - val_loss: 0.3548 - val_accuracy: 0.9196\n",
      "Epoch 17/30\n",
      "7352/7352 [==============================] - 55s 8ms/step - loss: 0.1476 - accuracy: 0.9486 - val_loss: 0.4141 - val_accuracy: 0.9006\n",
      "Epoch 18/30\n",
      "7352/7352 [==============================] - 55s 7ms/step - loss: 0.1498 - accuracy: 0.9452 - val_loss: 0.3153 - val_accuracy: 0.9247\n",
      "Epoch 19/30\n",
      "7352/7352 [==============================] - 55s 7ms/step - loss: 0.1238 - accuracy: 0.9523 - val_loss: 0.4461 - val_accuracy: 0.8941\n",
      "Epoch 20/30\n",
      "7352/7352 [==============================] - 54s 7ms/step - loss: 0.1446 - accuracy: 0.9495 - val_loss: 0.4129 - val_accuracy: 0.9009\n",
      "Epoch 21/30\n",
      "7352/7352 [==============================] - 55s 7ms/step - loss: 0.1329 - accuracy: 0.9518 - val_loss: 0.3655 - val_accuracy: 0.9206\n",
      "Epoch 22/30\n",
      "7352/7352 [==============================] - 55s 8ms/step - loss: 0.1239 - accuracy: 0.9517 - val_loss: 2.5897 - val_accuracy: 0.7391\n",
      "Epoch 23/30\n",
      "7352/7352 [==============================] - 55s 7ms/step - loss: 0.1648 - accuracy: 0.9457 - val_loss: 0.3292 - val_accuracy: 0.9233\n",
      "Epoch 24/30\n",
      "7352/7352 [==============================] - 53s 7ms/step - loss: 0.1112 - accuracy: 0.9550 - val_loss: 0.4205 - val_accuracy: 0.9033\n",
      "Epoch 25/30\n",
      "7352/7352 [==============================] - 54s 7ms/step - loss: 0.1427 - accuracy: 0.9504 - val_loss: 0.3900 - val_accuracy: 0.9135\n",
      "Epoch 26/30\n",
      "7352/7352 [==============================] - 55s 7ms/step - loss: 0.1228 - accuracy: 0.9547 - val_loss: 0.4070 - val_accuracy: 0.9213\n",
      "Epoch 27/30\n",
      "7352/7352 [==============================] - 55s 8ms/step - loss: 0.1228 - accuracy: 0.9553 - val_loss: 0.4354 - val_accuracy: 0.9002\n",
      "Epoch 28/30\n",
      "7352/7352 [==============================] - 55s 7ms/step - loss: 0.1252 - accuracy: 0.9551 - val_loss: 0.5536 - val_accuracy: 0.9016\n",
      "Epoch 29/30\n",
      "7352/7352 [==============================] - 55s 7ms/step - loss: 0.1488 - accuracy: 0.9510 - val_loss: 0.5315 - val_accuracy: 0.8785\n",
      "Epoch 30/30\n",
      "7352/7352 [==============================] - 54s 7ms/step - loss: 0.1870 - accuracy: 0.9119 - val_loss: 0.4200 - val_accuracy: 0.9040\n",
      "Accuracy: 90.40%\n"
     ]
    }
   ],
   "source": [
    "# Initiliazing the sequential model\n",
    "model1 = Sequential()\n",
    "# Configuring the parameters\n",
    "model1.add(LSTM(164, return_sequences = True, input_shape=(timesteps, input_dim)))\n",
    "model1.add(Dropout(0.25))\n",
    "model1.add(LSTM(64))\n",
    "# Adding a dropout layer\n",
    "model1.add(Dropout(0.5))\n",
    "# Adding a dense output layer with sigmoid activation\n",
    "model1.add(Dense(n_classes, activation= 'sigmoid'))\n",
    "print(model1.summary())\n",
    "\n",
    "# Compiling the model\n",
    "model1.compile(loss='categorical_crossentropy',optimizer='rmsprop' ,metrics=['accuracy'])\n",
    "\n",
    "# Training the model # batch_size=batch_size\n",
    "history = model1.fit(X_train,Y_train,validation_data=(X_test, Y_test),epochs=30)"
   ]
  },
  {
   "cell_type": "code",
   "execution_count": 18,
   "metadata": {},
   "outputs": [
    {
     "name": "stdout",
     "output_type": "stream",
     "text": [
      "Accuracy: 92.26%\n"
     ]
    }
   ],
   "source": [
    "scores1 = model1.evaluate(X_test, Y_test, verbose=0)\n",
    "print(\"Accuracy: %.2f%%\" % (scores1[1]*100))"
   ]
  },
  {
   "cell_type": "code",
   "execution_count": 24,
   "metadata": {},
   "outputs": [
    {
     "data": {
      "text/html": [
       "<div>\n",
       "<style scoped>\n",
       "    .dataframe tbody tr th:only-of-type {\n",
       "        vertical-align: middle;\n",
       "    }\n",
       "\n",
       "    .dataframe tbody tr th {\n",
       "        vertical-align: top;\n",
       "    }\n",
       "\n",
       "    .dataframe thead th {\n",
       "        text-align: right;\n",
       "    }\n",
       "</style>\n",
       "<table border=\"1\" class=\"dataframe\">\n",
       "  <thead>\n",
       "    <tr style=\"text-align: right;\">\n",
       "      <th>Pred</th>\n",
       "      <th>LAYING</th>\n",
       "      <th>SITTING</th>\n",
       "      <th>STANDING</th>\n",
       "      <th>WALKING</th>\n",
       "      <th>WALKING_DOWNSTAIRS</th>\n",
       "      <th>WALKING_UPSTAIRS</th>\n",
       "    </tr>\n",
       "    <tr>\n",
       "      <th>True</th>\n",
       "      <th></th>\n",
       "      <th></th>\n",
       "      <th></th>\n",
       "      <th></th>\n",
       "      <th></th>\n",
       "      <th></th>\n",
       "    </tr>\n",
       "  </thead>\n",
       "  <tbody>\n",
       "    <tr>\n",
       "      <th>LAYING</th>\n",
       "      <td>528</td>\n",
       "      <td>0</td>\n",
       "      <td>9</td>\n",
       "      <td>0</td>\n",
       "      <td>0</td>\n",
       "      <td>0</td>\n",
       "    </tr>\n",
       "    <tr>\n",
       "      <th>SITTING</th>\n",
       "      <td>5</td>\n",
       "      <td>418</td>\n",
       "      <td>65</td>\n",
       "      <td>1</td>\n",
       "      <td>0</td>\n",
       "      <td>2</td>\n",
       "    </tr>\n",
       "    <tr>\n",
       "      <th>STANDING</th>\n",
       "      <td>1</td>\n",
       "      <td>126</td>\n",
       "      <td>401</td>\n",
       "      <td>2</td>\n",
       "      <td>0</td>\n",
       "      <td>2</td>\n",
       "    </tr>\n",
       "    <tr>\n",
       "      <th>WALKING</th>\n",
       "      <td>6</td>\n",
       "      <td>0</td>\n",
       "      <td>1</td>\n",
       "      <td>452</td>\n",
       "      <td>15</td>\n",
       "      <td>22</td>\n",
       "    </tr>\n",
       "    <tr>\n",
       "      <th>WALKING_DOWNSTAIRS</th>\n",
       "      <td>2</td>\n",
       "      <td>0</td>\n",
       "      <td>0</td>\n",
       "      <td>2</td>\n",
       "      <td>395</td>\n",
       "      <td>21</td>\n",
       "    </tr>\n",
       "    <tr>\n",
       "      <th>WALKING_UPSTAIRS</th>\n",
       "      <td>0</td>\n",
       "      <td>0</td>\n",
       "      <td>0</td>\n",
       "      <td>1</td>\n",
       "      <td>0</td>\n",
       "      <td>470</td>\n",
       "    </tr>\n",
       "  </tbody>\n",
       "</table>\n",
       "</div>"
      ],
      "text/plain": [
       "Pred                LAYING  SITTING  STANDING  WALKING  WALKING_DOWNSTAIRS  \\\n",
       "True                                                                         \n",
       "LAYING                 528        0         9        0                   0   \n",
       "SITTING                  5      418        65        1                   0   \n",
       "STANDING                 1      126       401        2                   0   \n",
       "WALKING                  6        0         1      452                  15   \n",
       "WALKING_DOWNSTAIRS       2        0         0        2                 395   \n",
       "WALKING_UPSTAIRS         0        0         0        1                   0   \n",
       "\n",
       "Pred                WALKING_UPSTAIRS  \n",
       "True                                  \n",
       "LAYING                             0  \n",
       "SITTING                            2  \n",
       "STANDING                           2  \n",
       "WALKING                           22  \n",
       "WALKING_DOWNSTAIRS                21  \n",
       "WALKING_UPSTAIRS                 470  "
      ]
     },
     "execution_count": 24,
     "metadata": {},
     "output_type": "execute_result"
    }
   ],
   "source": [
    "# Confusion Matrix\n",
    "confusion_matrix(Y_test, model1.predict(X_test))"
   ]
  },
  {
   "cell_type": "code",
   "execution_count": 26,
   "metadata": {},
   "outputs": [
    {
     "data": {
      "image/png": "[encoded data removed]",
      "text/plain": [
       "<Figure size 432x288 with 1 Axes>"
      ]
     },
     "metadata": {
      "needs_background": "light"
     },
     "output_type": "display_data"
    }
   ],
   "source": [
    "%matplotlib inline\n",
    "import matplotlib.pyplot as plt\n",
    "import numpy as np\n",
    "import time\n",
    "\n",
    "def plt_dynamic(x, vy, ty, ax, colors=['b']):\n",
    "    ax.plot(x, vy, 'b', label= \"Validation Loss\")\n",
    "    ax.plot(x, ty, 'r', label= \"Train Loss\")\n",
    "    plt.legend()\n",
    "    plt.grid()\n",
    "    fig.canvas.draw()\n",
    "    \n",
    "nb_epoch=30\n",
    "fig,ax = plt.subplots(1,1)\n",
    "ax.set_xlabel('epoch') \n",
    "ax.set_ylabel('Categorical Crossentropy Loss')\n",
    "\n",
    "# list of epoch numbers\n",
    "x = list(range(1,nb_epoch+1))\n",
    "vy = history.history['val_loss']\n",
    "ty = history.history['loss']\n",
    "plt_dynamic(x, vy, ty, ax)"
   ]
  },
  {
   "cell_type": "markdown",
   "metadata": {},
   "source": [
    "# Conclusion :"
   ]
  },
  {
   "cell_type": "code",
   "execution_count": 2,
   "metadata": {},
   "outputs": [
    {
     "name": "stdout",
     "output_type": "stream",
     "text": [
      "+-------------------+--------+------------------+-----------------+\n",
      "| LSTM_Model layers | epochs | train_accuracy % | test_accuracy % |\n",
      "+-------------------+--------+------------------+-----------------+\n",
      "|      1 layer      |   30   |      95.16       |      93.01      |\n",
      "|      2 layers     |   30   |      91.19       |      92.26      |\n",
      "|    CNNs layers    |   30   |      95.29       |      92.09      |\n",
      "+-------------------+--------+------------------+-----------------+\n"
     ]
    }
   ],
   "source": [
    "from prettytable import PrettyTable\n",
    "x = PrettyTable()\n",
    "x = PrettyTable([\"LSTM_Model layers\",\"epochs\",\"train_accuracy %\",\"test_accuracy %\"])\n",
    "x.add_row(['1 layer',30,95.16,93.01])\n",
    "x.add_row(['2 layers',30,91.19,92.26])\n",
    "x.add_row(['CNNs layers',30,95.29,92.09])\n",
    "print(x)"
   ]
  },
  {
   "cell_type": "markdown",
   "metadata": {},
   "source": [
    " * we have applied the batch normalization with dropout layer made to reach the 93% after many tests of training the model.\n",
    " * 2 layer LSTM model is nearly equal to 1 layer Lstm model. But still the Basic Machine learning models gave much better accuracy about 96% Than compared to complex Lstm models. "
   ]
  },
  {
   "cell_type": "code",
   "execution_count": null,
   "metadata": {},
   "outputs": [],
   "source": []
  }
 ],
 "metadata": {
  "kernelspec": {
   "display_name": "Python 3",
   "language": "python",
   "name": "python3"
  },
  "language_info": {
   "codemirror_mode": {
    "name": "ipython",
    "version": 3
   },
   "file_extension": ".py",
   "mimetype": "text/x-python",
   "name": "python",
   "nbconvert_exporter": "python",
   "pygments_lexer": "ipython3",
   "version": "3.7.3"
  }
 },
 "nbformat": 4,
 "nbformat_minor": 2
}
